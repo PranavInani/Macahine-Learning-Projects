{
  "cells": [
    {
      "cell_type": "markdown",
      "source": [
        "# Handwritten Digit Recognisation\n",
        "This Colab notebook serves as a comprehensive guide to understanding and implementing handwritten digit recognition using popular machine learning techniques.\n",
        "\n",
        "#Understanding the Problem\n",
        "\n",
        "Handwritten digit recognition poses a unique set of challenges due to the inherent variability in human handwriting styles, stroke thickness, and spatial orientation. Despite these challenges, advances in machine learning algorithms, particularly deep learning, have enabled significant progress in this domain\n",
        ".\n",
        "#Dataset Overview\n",
        "\n",
        "Central to our exploration is the MNIST dataset, a widely-used benchmark dataset in the field of machine learning. MNIST comprises a collection of 28x28 pixel grayscale images of handwritten digits (0 through 9), each meticulously labeled with its corresponding digit. This dataset serves as the bedrock for developing and evaluating handwritten digit recognition models.\n",
        "\n"
      ],
      "metadata": {
        "id": "ni5a-p5oob_0"
      }
    },
    {
      "cell_type": "code",
      "execution_count": null,
      "metadata": {
        "id": "lFj8KSJfz_sU"
      },
      "outputs": [],
      "source": [
        "import pandas as pd\n",
        "import numpy as np\n",
        "import matplotlib.pyplot as plt\n",
        "import tensorflow as tf"
      ]
    },
    {
      "cell_type": "markdown",
      "source": [
        "### Loading the MNIST Dataset\n",
        "\n",
        "In this section, we load the MNIST dataset, a widely-used benchmark dataset in the field of machine learning and computer vision. The MNIST dataset consists of a large collection of 28x28 pixel grayscale images of handwritten digits (0 through 9), along with their corresponding labels.\n",
        "\n",
        "#### About the MNIST Dataset\n",
        "\n",
        "The MNIST dataset serves as a fundamental resource for developing and evaluating machine learning algorithms, particularly in the domain of handwritten digit recognition. It has been extensively studied and serves as a standard benchmark for assessing the performance of various models.\n",
        "\n",
        "#### Loading the Dataset\n",
        "\n",
        "We use TensorFlow's built-in functionality to load the MNIST dataset directly into our Colab notebook. The dataset is divided into two sets: the training set (`x_train`, `y_train`) and the test set (`x_test`, `y_test`). The training set contains images and labels used for training our machine learning model, while the test set contains unseen images and labels for evaluating the model's performance on unseen data.\n",
        "\n",
        "Let's proceed to load the dataset and explore its contents.\n"
      ],
      "metadata": {
        "id": "ns2-pLFUoamP"
      }
    },
    {
      "cell_type": "code",
      "execution_count": null,
      "metadata": {
        "id": "O0SZ2agx0Msw"
      },
      "outputs": [],
      "source": [
        "from keras.datasets import mnist\n",
        "(x_train, y_train), (x_test, y_test) = mnist.load_data()"
      ]
    },
    {
      "cell_type": "code",
      "execution_count": null,
      "metadata": {
        "colab": {
          "base_uri": "https://localhost:8080/"
        },
        "id": "CXUj5AiKG3l9",
        "outputId": "86e0811e-ed5d-4b05-d4ac-99757ca6c512"
      },
      "outputs": [
        {
          "output_type": "stream",
          "name": "stdout",
          "text": [
            "Shape of x_train is (60000, 28, 28)\n",
            "Shape of y_train is (60000,)\n"
          ]
        }
      ],
      "source": [
        "print(\"Shape of x_train is\", x_train.shape)\n",
        "print(\"Shape of y_train is\", y_train.shape)"
      ]
    },
    {
      "cell_type": "code",
      "execution_count": null,
      "metadata": {
        "colab": {
          "base_uri": "https://localhost:8080/",
          "height": 452
        },
        "id": "tPGMB0mI0ZoP",
        "outputId": "5746d0de-7e24-4f52-a273-1d02697f8944"
      },
      "outputs": [
        {
          "output_type": "display_data",
          "data": {
            "text/plain": [
              "<Figure size 640x480 with 1 Axes>"
            ],
            "image/png": "[encoded data removed]"
          },
          "metadata": {}
        }
      ],
      "source": [
        "first = x_train[0]\n",
        "label = y_train[0]\n",
        "\n",
        "plt.imshow(first, cmap='gray')\n",
        "plt.title(\"Label: \" + str(label))\n",
        "plt.show()"
      ]
    },
    {
      "cell_type": "markdown",
      "source": [
        "### Data Preprocessing\n",
        "\n",
        "In this section, we perform preprocessing steps to prepare the input data for model training. Preprocessing is a crucial step in machine learning pipelines as it helps to standardize the data and make it more amenable to effective learning by the models.\n",
        "\n",
        "We'll start by converting the data type of the pixel values to `float32`. This conversion is necessary to ensure compatibility with subsequent normalization steps and certain machine learning algorithms.\n",
        "\n",
        "Next, we normalize the pixel values of the images by dividing them by 255.0. This normalization process scales the pixel values to the range [0, 1], making it easier for the model to learn effectively.\n",
        "\n",
        "Finally, we'll print the minimum and maximum pixel values of the training data to confirm successful normalization. The pixel values should now fall within the desired range, facilitating optimal model training.\n",
        "\n"
      ],
      "metadata": {
        "id": "f1HgvIwTp0hQ"
      }
    },
    {
      "cell_type": "code",
      "execution_count": null,
      "metadata": {
        "colab": {
          "base_uri": "https://localhost:8080/"
        },
        "id": "dCQM2nVXIkqD",
        "outputId": "d3445d24-4dbe-47e8-dd61-47e84b10dd0c"
      },
      "outputs": [
        {
          "output_type": "stream",
          "name": "stdout",
          "text": [
            "Minimum pixel value: 0.0\n",
            "Maximum pixel value: 1.0\n"
          ]
        }
      ],
      "source": [
        "x_train = x_train.astype('float32')\n",
        "x_test = x_test.astype('float32')\n",
        "\n",
        "x_train /= 255.0\n",
        "x_test /= 255.0\n",
        "\n",
        "print(\"Minimum pixel value:\", np.min(x_train))\n",
        "print(\"Maximum pixel value:\", np.max(x_train))"
      ]
    },
    {
      "cell_type": "markdown",
      "source": [
        "### Data Reshaping\n",
        "\n",
        "In this section, we reshape the input data to facilitate compatibility with certain machine learning algorithms that require a flattened representation of the input features.\n",
        "\n",
        "The `reshape` function is applied to both the training and test images to flatten them while preserving the number of samples. This is achieved by specifying `-1` as the second dimension, which automatically computes the size of the second dimension based on the size of the original array.\n",
        "\n",
        "After reshaping, we print the shapes of the flattened training and test images to verify that the reshaping process was successful and to understand the dimensions of the flattened feature vectors.\n",
        "\n"
      ],
      "metadata": {
        "id": "WdLHIyCXqSlL"
      }
    },
    {
      "cell_type": "code",
      "execution_count": null,
      "metadata": {
        "colab": {
          "base_uri": "https://localhost:8080/"
        },
        "id": "g3iZsEBOK04T",
        "outputId": "8d995142-89b1-4f23-f7ad-d8dff39d30bc"
      },
      "outputs": [
        {
          "output_type": "stream",
          "name": "stdout",
          "text": [
            "Shape of flattened training images: (60000, 784)\n",
            "Shape of flattened test images: (10000, 784)\n"
          ]
        }
      ],
      "source": [
        "x_train_flat = x_train.reshape(x_train.shape[0], -1)\n",
        "x_test_flat = x_test.reshape(x_test.shape[0], -1)\n",
        "\n",
        "print(\"Shape of flattened training images:\", x_train_flat.shape)\n",
        "print(\"Shape of flattened test images:\", x_test_flat.shape)"
      ]
    },
    {
      "cell_type": "markdown",
      "source": [
        "### Model Definition\n",
        "\n",
        "In this section, we define the architecture of our neural network model for handwritten digit recognition using TensorFlow and Keras.\n",
        "\n",
        "We start by importing the necessary modules from TensorFlow, including the `Sequential` model and various layers such as `Dense` for fully connected layers.\n",
        "\n",
        "Next, we set the random seed for reproducibility using `tf.random.set_seed()`. This ensures that the initialization of weights and biases in the neural network is consistent across runs.\n",
        "\n",
        "The architecture of our model, named \"mymodel,\" is defined as follows:\n",
        "\n",
        "- **Input Layer**: An input layer with 784 units, corresponding to the flattened representation of the input images (28x28 pixels).\n",
        "- **Hidden Layers**: Three dense (fully connected) hidden layers with 784, 32, and 16 units, respectively. Each hidden layer uses the ReLU (Rectified Linear Unit) activation function, which introduces non-linearity to the model and enables it to learn complex patterns in the data.\n",
        "- **Output Layer**: A dense output layer with 10 units, corresponding to the 10 possible classes (digits 0 through 9). The output layer uses the linear activation function to produce raw output values that will be transformed into probabilities using a suitable activation function during training.\n",
        "\n",
        "After defining the model architecture, we use the `summary()` method to display a concise summary of the model's structure, including the number of parameters in each layer and the total number of trainable parameters.\n"
      ],
      "metadata": {
        "id": "ikRutiQjqaBP"
      }
    },
    {
      "cell_type": "code",
      "execution_count": null,
      "metadata": {
        "colab": {
          "base_uri": "https://localhost:8080/"
        },
        "id": "BtDoS4qGNHuZ",
        "outputId": "c23e4a54-49f9-4a67-bec5-849398c5a9b5"
      },
      "outputs": [
        {
          "output_type": "stream",
          "name": "stdout",
          "text": [
            "Model: \"mymodel\"\n",
            "_________________________________________________________________\n",
            " Layer (type)                Output Shape              Param #   \n",
            "=================================================================\n",
            " dense_4 (Dense)             (None, 784)               615440    \n",
            "                                                                 \n",
            " dense_5 (Dense)             (None, 32)                25120     \n",
            "                                                                 \n",
            " dense_6 (Dense)             (None, 16)                528       \n",
            "                                                                 \n",
            " dense_7 (Dense)             (None, 10)                170       \n",
            "                                                                 \n",
            "=================================================================\n",
            "Total params: 641258 (2.45 MB)\n",
            "Trainable params: 641258 (2.45 MB)\n",
            "Non-trainable params: 0 (0.00 Byte)\n",
            "_________________________________________________________________\n"
          ]
        }
      ],
      "source": [
        "from tensorflow.keras.models import Sequential\n",
        "from tensorflow.keras.layers import Dense\n",
        "from tensorflow.keras.activations import linear, relu\n",
        "\n",
        "\n",
        "tf.random.set_seed(69)\n",
        "model = Sequential(\n",
        "    [\n",
        "        tf.keras.layers.InputLayer((784,)),\n",
        "        tf.keras.layers.Dense(784, activation = 'relu'),\n",
        "        tf.keras.layers.Dense(32, activation = 'relu'),\n",
        "        tf.keras.layers.Dense(16, activation = 'relu'),\n",
        "        tf.keras.layers.Dense(10, activation = 'linear')\n",
        "    ], name = \"mymodel\"\n",
        ")\n",
        "model.summary()"
      ]
    },
    {
      "cell_type": "markdown",
      "source": [
        "### Extracting Weights and Biases\n",
        "\n",
        "In this section, we extract the weights and biases from each layer of our neural network model for further analysis. Understanding the parameters of each layer can provide insights into how the model learns and makes predictions.\n",
        "\n",
        "We begin by accessing the individual layers of our model using Python's unpacking syntax `[layer1, layer2, layer3, layer4] = model.layers`. This allows us to retrieve each layer's weights and biases separately.\n",
        "\n",
        "For each layer, we extract the weights (`W`) and biases (`b`) using the `get_weights()` method. These parameters represent the learnable parameters of the neural network that are adjusted during the training process to minimize the loss function.\n",
        "\n",
        "Finally, we print the shapes of the weights and biases for each layer to understand their dimensions and ensure consistency with the model architecture defined earlier.\n"
      ],
      "metadata": {
        "id": "1cT3SzG7qfyG"
      }
    },
    {
      "cell_type": "code",
      "execution_count": null,
      "metadata": {
        "colab": {
          "base_uri": "https://localhost:8080/"
        },
        "id": "5Oo7zPBCSIal",
        "outputId": "4fb233a5-6b61-415e-e823-13ca659d6090"
      },
      "outputs": [
        {
          "output_type": "stream",
          "name": "stdout",
          "text": [
            "W1 shape = (784, 784), b1 shape = (784,)\n",
            "W2 shape = (784, 32), b2 shape = (32,)\n",
            "W3 shape = (32, 16), b3 shape = (16,)\n",
            "W4 shape = (16, 10), b4 shape = (10,)\n"
          ]
        }
      ],
      "source": [
        "[layer1, layer2, layer3, layer4] = model.layers\n",
        "\n",
        "W1,b1 = layer1.get_weights()\n",
        "W2,b2 = layer2.get_weights()\n",
        "W3,b3 = layer3.get_weights()\n",
        "W4,b4 = layer4.get_weights()\n",
        "print(f\"W1 shape = {W1.shape}, b1 shape = {b1.shape}\")\n",
        "print(f\"W2 shape = {W2.shape}, b2 shape = {b2.shape}\")\n",
        "print(f\"W3 shape = {W3.shape}, b3 shape = {b3.shape}\")\n",
        "print(f\"W4 shape = {W4.shape}, b4 shape = {b4.shape}\")"
      ]
    },
    {
      "cell_type": "markdown",
      "source": [
        "### Model Compilation and Training\n",
        "\n",
        "In this section, we compile and train our neural network model for handwritten digit recognition. Model compilation involves configuring the model for training by specifying the loss function, optimizer, and evaluation metrics. Once compiled, the model is trained using the training data to learn patterns and relationships between input features and target labels.\n",
        "\n",
        "#### Model Compilation\n",
        "\n",
        "We use the `compile()` method to configure the model for training. The loss function is set to `SparseCategoricalCrossentropy`, which is suitable for multi-class classification tasks like handwritten digit recognition. We specify `from_logits = True` to indicate that the model's output values are raw logits, allowing for numerical stability during training. Additionally, we choose the Adam optimizer with a learning rate of 0.001 to update the model parameters during training.\n",
        "\n",
        "#### Model Training\n",
        "\n",
        "We train the compiled model using the `fit()` method, passing the flattened training images (`x_train_flat`) and their corresponding labels (`y_train`). We specify the number of training epochs as 25, indicating the number of times the entire training dataset will be passed forward and backward through the neural network.\n",
        "\n",
        "The training process updates the model's weights and biases iteratively to minimize the defined loss function. During training, we monitor the training progress and performance metrics such as loss and accuracy.\n",
        "\n"
      ],
      "metadata": {
        "id": "F5-1W9psq0O3"
      }
    },
    {
      "cell_type": "code",
      "execution_count": null,
      "metadata": {
        "colab": {
          "base_uri": "https://localhost:8080/"
        },
        "id": "VvS-UJrcO2Ep",
        "outputId": "c098c3c9-02f0-46f7-9929-248296358197"
      },
      "outputs": [
        {
          "output_type": "stream",
          "name": "stdout",
          "text": [
            "Epoch 1/25\n",
            "1875/1875 [==============================] - 37s 18ms/step - loss: 0.2437\n",
            "Epoch 2/25\n",
            "1875/1875 [==============================] - 37s 20ms/step - loss: 0.0882\n",
            "Epoch 3/25\n",
            "1875/1875 [==============================] - 34s 18ms/step - loss: 0.0611\n",
            "Epoch 4/25\n",
            "1875/1875 [==============================] - 36s 19ms/step - loss: 0.0458\n",
            "Epoch 5/25\n",
            "1875/1875 [==============================] - 35s 19ms/step - loss: 0.0343\n",
            "Epoch 6/25\n",
            "1875/1875 [==============================] - 35s 19ms/step - loss: 0.0286\n",
            "Epoch 7/25\n",
            "1875/1875 [==============================] - 35s 19ms/step - loss: 0.0252\n",
            "Epoch 8/25\n",
            "1875/1875 [==============================] - 36s 19ms/step - loss: 0.0211\n",
            "Epoch 9/25\n",
            "1875/1875 [==============================] - 32s 17ms/step - loss: 0.0185\n",
            "Epoch 10/25\n",
            "1875/1875 [==============================] - 35s 19ms/step - loss: 0.0185\n",
            "Epoch 11/25\n",
            "1875/1875 [==============================] - 35s 19ms/step - loss: 0.0144\n",
            "Epoch 12/25\n",
            "1875/1875 [==============================] - 34s 18ms/step - loss: 0.0156\n",
            "Epoch 13/25\n",
            "1875/1875 [==============================] - 37s 20ms/step - loss: 0.0145\n",
            "Epoch 14/25\n",
            "1875/1875 [==============================] - 35s 18ms/step - loss: 0.0105\n",
            "Epoch 15/25\n",
            "1875/1875 [==============================] - 31s 16ms/step - loss: 0.0114\n",
            "Epoch 16/25\n",
            "1875/1875 [==============================] - 35s 19ms/step - loss: 0.0117\n",
            "Epoch 17/25\n",
            "1875/1875 [==============================] - 33s 18ms/step - loss: 0.0099\n",
            "Epoch 18/25\n",
            "1875/1875 [==============================] - 32s 17ms/step - loss: 0.0104\n",
            "Epoch 19/25\n",
            "1875/1875 [==============================] - 34s 18ms/step - loss: 0.0101\n",
            "Epoch 20/25\n",
            "1875/1875 [==============================] - 35s 19ms/step - loss: 0.0087\n",
            "Epoch 21/25\n",
            "1875/1875 [==============================] - 38s 20ms/step - loss: 0.0076\n",
            "Epoch 22/25\n",
            "1875/1875 [==============================] - 28s 15ms/step - loss: 0.0087\n",
            "Epoch 23/25\n",
            "1875/1875 [==============================] - 31s 17ms/step - loss: 0.0091\n",
            "Epoch 24/25\n",
            "1875/1875 [==============================] - 36s 19ms/step - loss: 0.0096\n",
            "Epoch 25/25\n",
            "1875/1875 [==============================] - 34s 18ms/step - loss: 0.0089\n"
          ]
        }
      ],
      "source": [
        "model.compile(\n",
        "    loss = tf.keras.losses.SparseCategoricalCrossentropy(from_logits = True),\n",
        "    optimizer = tf.keras.optimizers.Adam(learning_rate = 0.001)\n",
        ")\n",
        "\n",
        "history = model.fit(\n",
        "    x_train_flat, y_train,\n",
        "    epochs = 25\n",
        ")"
      ]
    },
    {
      "cell_type": "markdown",
      "source": [
        "### Visualizing Training Loss\n",
        "\n",
        "In this section, we visualize the training loss over epochs to assess the convergence and performance of our neural network model during training. Monitoring the training loss provides insights into the effectiveness of the model optimization process and helps identify potential issues such as overfitting or underfitting.\n",
        "\n",
        "We use the `plot()` function from the Matplotlib library to create a line plot of the training loss over epochs. The x-axis represents the training epochs, while the y-axis represents the corresponding loss values. By observing the trend of the loss curve, we can evaluate the model's learning dynamics and make informed decisions regarding model training and hyperparameter tuning.\n",
        "\n",
        "#### Training Loss Plot\n",
        "\n",
        "We plot the training loss over epochs using the `history` object obtained from the model training process. The `'loss'` key of the `history.history` dictionary contains the training loss values recorded during each epoch. By plotting this data, we visualize how the training loss changes over time, providing valuable insights into the model's convergence and optimization progress.\n",
        "\n"
      ],
      "metadata": {
        "id": "-EGOzalGq62x"
      }
    },
    {
      "cell_type": "code",
      "execution_count": null,
      "metadata": {
        "colab": {
          "base_uri": "https://localhost:8080/",
          "height": 472
        },
        "id": "2qsG-GW8SvN3",
        "outputId": "1944c0a2-b72c-4e91-dcd9-9e3e3efb3283"
      },
      "outputs": [
        {
          "output_type": "display_data",
          "data": {
            "text/plain": [
              "<Figure size 640x480 with 1 Axes>"
            ],
            "image/png": "[encoded data removed]"
          },
          "metadata": {}
        }
      ],
      "source": [
        "plt.plot(history.history['loss'], label='Training Loss')\n",
        "plt.xlabel('Epoch')\n",
        "plt.ylabel('Loss')\n",
        "plt.title('Training Loss Over Epochs')\n",
        "plt.legend()\n",
        "plt.show()"
      ]
    },
    {
      "cell_type": "markdown",
      "source": [
        "### Making Predictions\n",
        "\n",
        "In this section, we use our trained neural network model to make predictions on the test dataset. Predictions are made by passing the flattened test images through the trained model and obtaining the corresponding output probabilities for each class. The predicted class label for each test sample is then determined based on the class with the highest probability.\n",
        "\n",
        "#### Model Predictions\n",
        "\n",
        "We use the `predict()` method of the trained model to obtain the predicted probabilities for each class for the flattened test images (`x_test_flat`). The output of this operation (`y_prob`) is a matrix where each row corresponds to a test sample, and each column represents the probability of that sample belonging to a particular class.\n",
        "\n",
        "Next, we extract the predicted class labels (`y_pred`) by taking the index of the column with the highest probability for each test sample using the `argmax()` function along the specified axis.\n",
        "\n",
        "These predicted class labels can then be compared with the true labels of the test dataset to evaluate the performance of our model on unseen data.\n"
      ],
      "metadata": {
        "id": "yb3VDejGrAuD"
      }
    },
    {
      "cell_type": "code",
      "source": [
        "y_prob = model.predict(x_test_flat)\n",
        "y_pred = y_prob.argmax(axis = 1)"
      ],
      "metadata": {
        "colab": {
          "base_uri": "https://localhost:8080/"
        },
        "id": "cHBRy_Ztmk-5",
        "outputId": "62508332-d0f0-49ba-bc8a-b7303057e008"
      },
      "execution_count": null,
      "outputs": [
        {
          "output_type": "stream",
          "name": "stdout",
          "text": [
            "313/313 [==============================] - 2s 7ms/step\n"
          ]
        }
      ]
    },
    {
      "cell_type": "markdown",
      "source": [
        "### Evaluating Model Performance\n",
        "\n",
        "In this section, we evaluate the performance of our trained neural network model on the test dataset by computing the accuracy score. Accuracy is a common evaluation metric for classification tasks, representing the proportion of correctly classified samples out of the total number of samples.\n",
        "\n",
        "#### Accuracy Score Calculation\n",
        "\n",
        "We use the `accuracy_score()` function from the scikit-learn library to compute the accuracy score of our model's predictions on the test dataset. This function takes two arguments: the true labels (`y_test`) and the predicted labels (`y_pred`). It compares the predicted labels generated by our model with the ground truth labels of the test dataset and calculates the accuracy score.\n",
        "\n",
        "The accuracy score provides valuable insights into the overall performance of our model in correctly identifying handwritten digits. A higher accuracy score indicates better performance, while a lower score suggests room for improvement in the model's predictive capabilities.\n",
        "\n"
      ],
      "metadata": {
        "id": "FO2DJsqcrItF"
      }
    },
    {
      "cell_type": "code",
      "execution_count": null,
      "metadata": {
        "colab": {
          "base_uri": "https://localhost:8080/"
        },
        "id": "Ol8h8i9TVCrY",
        "outputId": "b417d447-7cb7-4d17-cf96-7559a7ac84d0"
      },
      "outputs": [
        {
          "output_type": "execute_result",
          "data": {
            "text/plain": [
              "0.9812"
            ]
          },
          "metadata": {},
          "execution_count": 21
        }
      ],
      "source": [
        "from sklearn.metrics import accuracy_score\n",
        "accuracy_score(y_test, y_pred)"
      ]
    },
    {
      "cell_type": "markdown",
      "source": [
        "### Analyzing Incorrect Predictions\n",
        "\n",
        "In this section, we analyze the incorrect predictions made by our trained neural network model on the test dataset. By comparing the predicted labels with the ground truth labels, we can identify instances where the model failed to classify handwritten digits correctly.\n",
        "\n",
        "#### Identification of Incorrect Predictions\n",
        "\n",
        "We use NumPy to identify the indices of test samples where the predicted labels (`y_pred`) do not match the ground truth labels (`y_test`). The `np.where()` function returns the indices of elements that satisfy the specified condition, in this case, where the predicted label is not equal to the ground truth label.\n",
        "\n",
        "Next, we compute the total number of incorrect predictions (`num_incorrect`) and print it for further analysis.\n",
        "\n",
        "#### Examples of Incorrect Predictions\n",
        "\n",
        "Optionally, we can print some examples of incorrect predictions to gain insights into the types of errors made by the model. We iterate over the indices of incorrect predictions and print the predicted and actual labels for each example.\n",
        "\n",
        "Analyzing these examples can provide valuable feedback on the model's weaknesses and areas for improvement, such as ambiguous or challenging digits that the model struggles to classify accurately.\n"
      ],
      "metadata": {
        "id": "nAXbJEIXrPTm"
      }
    },
    {
      "cell_type": "code",
      "execution_count": null,
      "metadata": {
        "colab": {
          "base_uri": "https://localhost:8080/"
        },
        "id": "9gaPITM8WsUv",
        "outputId": "6f334985-6568-45f6-84a6-047e96fdab79"
      },
      "outputs": [
        {
          "output_type": "stream",
          "name": "stdout",
          "text": [
            "Number of incorrect predictions: 188\n",
            "Examples of incorrect predictions:\n",
            "Predicted: 9, Actual: 4\n",
            "Predicted: 9, Actual: 2\n",
            "Predicted: 2, Actual: 4\n",
            "Predicted: 7, Actual: 2\n",
            "Predicted: 3, Actual: 5\n"
          ]
        }
      ],
      "source": [
        "\n",
        "# Compare predicted labels with ground truth labels\n",
        "incorrect_indices = np.where(y_pred != y_test)[0]\n",
        "num_incorrect = len(incorrect_indices)\n",
        "\n",
        "# Print the number of incorrect predictions\n",
        "print(f\"Number of incorrect predictions: {num_incorrect}\")\n",
        "\n",
        "# Optionally, print some examples of incorrect predictions\n",
        "print(\"Examples of incorrect predictions:\")\n",
        "for i in range(min(5, num_incorrect)):  # Print up to 5 examples\n",
        "    index = incorrect_indices[i]\n",
        "    print(f\"Predicted: {y_pred[index]}, Actual: {y_test[index]}\")\n"
      ]
    },
    {
      "cell_type": "markdown",
      "source": [
        "### Visualizing Incorrect Predictions\n",
        "\n",
        "In this section, we visualize some examples of incorrect predictions made by our trained neural network model on the test dataset. Visualizing these examples helps us understand the types of errors made by the model and provides insights into areas for improvement.\n",
        "\n",
        "#### Plotting Images of Incorrect Predictions\n",
        "\n",
        "We plot images of incorrect predictions along with their predicted and real labels to visually inspect the discrepancies between the model's predictions and the ground truth labels. Each subplot in the visualization displays an image of a handwritten digit, along with the predicted label and the actual label.\n",
        "\n",
        "We iterate over the indices of incorrect predictions and retrieve the corresponding images from the flattened test dataset. The images are reshaped to their original shape (28x28 pixels) before visualization.\n",
        "\n",
        "#### Examples of Incorrect Predictions\n",
        "\n",
        "We plot up to 5 examples of incorrect predictions, or fewer if there are fewer than 5 incorrect predictions in total. By visually examining these examples, we can gain insights into the specific challenges faced by the model, such as misclassification of similar-looking digits or ambiguous handwriting.\n"
      ],
      "metadata": {
        "id": "6_M7KCznrZcz"
      }
    },
    {
      "cell_type": "code",
      "execution_count": null,
      "metadata": {
        "colab": {
          "base_uri": "https://localhost:8080/",
          "height": 259
        },
        "id": "KGr0Bj3FV1j-",
        "outputId": "6dea808d-02a6-496c-9014-fcdd55cdcf8a"
      },
      "outputs": [
        {
          "output_type": "display_data",
          "data": {
            "text/plain": [
              "<Figure size 1500x300 with 5 Axes>"
            ],
            "image/png": "[encoded data removed]"
          },
          "metadata": {}
        }
      ],
      "source": [
        "# Plot images of incorrect predictions along with their predicted and real labels\n",
        "num_examples_to_plot = min(5, len(incorrect_indices))  # Plot up to 5 examples\n",
        "fig, axes = plt.subplots(1, num_examples_to_plot, figsize=(15, 3))\n",
        "\n",
        "for i in range(num_examples_to_plot):\n",
        "    index = incorrect_indices[i]\n",
        "    image = x_test_flat[index].reshape(28, 28)  # Reshape flattened image to original shape\n",
        "    predicted_label = y_pred[index]\n",
        "    actual_label = y_test[index]\n",
        "\n",
        "    axes[i].imshow(image, cmap='gray')\n",
        "    axes[i].set_title(f\"Predicted: {predicted_label}, Actual: {actual_label}\")\n",
        "    axes[i].axis('off')\n",
        "\n",
        "plt.show()\n"
      ]
    },
    {
      "cell_type": "code",
      "source": [],
      "metadata": {
        "id": "xt8iqyo8oxy8"
      },
      "execution_count": null,
      "outputs": []
    }
  ],
  "metadata": {
    "accelerator": "GPU",
    "colab": {
      "gpuType": "T4",
      "provenance": []
    },
    "kernelspec": {
      "display_name": "Python 3",
      "name": "python3"
    },
    "language_info": {
      "name": "python"
    }
  },
  "nbformat": 4,
  "nbformat_minor": 0
}